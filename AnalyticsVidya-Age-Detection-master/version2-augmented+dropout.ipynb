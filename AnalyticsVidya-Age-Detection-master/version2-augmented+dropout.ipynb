{
 "cells": [
  {
   "cell_type": "code",
   "execution_count": 1,
   "metadata": {},
   "outputs": [
    {
     "name": "stderr",
     "output_type": "stream",
     "text": [
      "/usr/local/lib/python3.5/dist-packages/h5py/__init__.py:36: FutureWarning: Conversion of the second argument of issubdtype from `float` to `np.floating` is deprecated. In future, it will be treated as `np.float64 == np.dtype(float).type`.\n",
      "  from ._conv import register_converters as _register_converters\n",
      "Using TensorFlow backend.\n"
     ]
    }
   ],
   "source": [
    "from keras.models import Sequential\n",
    "from keras import layers\n",
    "import pandas as pd\n",
    "import numpy as np\n",
    "import matplotlib.pyplot as plt\n",
    "%matplotlib inline"
   ]
  },
  {
   "cell_type": "markdown",
   "metadata": {},
   "source": [
    "## Obtaining Data"
   ]
  },
  {
   "cell_type": "code",
   "execution_count": 2,
   "metadata": {},
   "outputs": [],
   "source": [
    "train_data=pd.read_csv('train.csv')"
   ]
  },
  {
   "cell_type": "code",
   "execution_count": 3,
   "metadata": {},
   "outputs": [],
   "source": [
    "test_data=pd.read_csv('test.csv')"
   ]
  },
  {
   "cell_type": "code",
   "execution_count": 4,
   "metadata": {},
   "outputs": [
    {
     "data": {
      "text/html": [
       "<div>\n",
       "<style scoped>\n",
       "    .dataframe tbody tr th:only-of-type {\n",
       "        vertical-align: middle;\n",
       "    }\n",
       "\n",
       "    .dataframe tbody tr th {\n",
       "        vertical-align: top;\n",
       "    }\n",
       "\n",
       "    .dataframe thead th {\n",
       "        text-align: right;\n",
       "    }\n",
       "</style>\n",
       "<table border=\"1\" class=\"dataframe\">\n",
       "  <thead>\n",
       "    <tr style=\"text-align: right;\">\n",
       "      <th></th>\n",
       "      <th>ID</th>\n",
       "      <th>Class</th>\n",
       "    </tr>\n",
       "  </thead>\n",
       "  <tbody>\n",
       "    <tr>\n",
       "      <th>0</th>\n",
       "      <td>377.jpg</td>\n",
       "      <td>MIDDLE</td>\n",
       "    </tr>\n",
       "    <tr>\n",
       "      <th>1</th>\n",
       "      <td>17814.jpg</td>\n",
       "      <td>YOUNG</td>\n",
       "    </tr>\n",
       "    <tr>\n",
       "      <th>2</th>\n",
       "      <td>21283.jpg</td>\n",
       "      <td>MIDDLE</td>\n",
       "    </tr>\n",
       "    <tr>\n",
       "      <th>3</th>\n",
       "      <td>16496.jpg</td>\n",
       "      <td>YOUNG</td>\n",
       "    </tr>\n",
       "    <tr>\n",
       "      <th>4</th>\n",
       "      <td>4487.jpg</td>\n",
       "      <td>MIDDLE</td>\n",
       "    </tr>\n",
       "  </tbody>\n",
       "</table>\n",
       "</div>"
      ],
      "text/plain": [
       "          ID   Class\n",
       "0    377.jpg  MIDDLE\n",
       "1  17814.jpg   YOUNG\n",
       "2  21283.jpg  MIDDLE\n",
       "3  16496.jpg   YOUNG\n",
       "4   4487.jpg  MIDDLE"
      ]
     },
     "execution_count": 4,
     "metadata": {},
     "output_type": "execute_result"
    }
   ],
   "source": [
    "train_data.head()"
   ]
  },
  {
   "cell_type": "code",
   "execution_count": 5,
   "metadata": {},
   "outputs": [
    {
     "data": {
      "text/html": [
       "<div>\n",
       "<style scoped>\n",
       "    .dataframe tbody tr th:only-of-type {\n",
       "        vertical-align: middle;\n",
       "    }\n",
       "\n",
       "    .dataframe tbody tr th {\n",
       "        vertical-align: top;\n",
       "    }\n",
       "\n",
       "    .dataframe thead th {\n",
       "        text-align: right;\n",
       "    }\n",
       "</style>\n",
       "<table border=\"1\" class=\"dataframe\">\n",
       "  <thead>\n",
       "    <tr style=\"text-align: right;\">\n",
       "      <th></th>\n",
       "      <th>ID</th>\n",
       "    </tr>\n",
       "  </thead>\n",
       "  <tbody>\n",
       "    <tr>\n",
       "      <th>0</th>\n",
       "      <td>25321.jpg</td>\n",
       "    </tr>\n",
       "    <tr>\n",
       "      <th>1</th>\n",
       "      <td>989.jpg</td>\n",
       "    </tr>\n",
       "    <tr>\n",
       "      <th>2</th>\n",
       "      <td>19277.jpg</td>\n",
       "    </tr>\n",
       "    <tr>\n",
       "      <th>3</th>\n",
       "      <td>13093.jpg</td>\n",
       "    </tr>\n",
       "    <tr>\n",
       "      <th>4</th>\n",
       "      <td>5367.jpg</td>\n",
       "    </tr>\n",
       "  </tbody>\n",
       "</table>\n",
       "</div>"
      ],
      "text/plain": [
       "          ID\n",
       "0  25321.jpg\n",
       "1    989.jpg\n",
       "2  19277.jpg\n",
       "3  13093.jpg\n",
       "4   5367.jpg"
      ]
     },
     "execution_count": 5,
     "metadata": {},
     "output_type": "execute_result"
    }
   ],
   "source": [
    "test_data.head()"
   ]
  },
  {
   "cell_type": "code",
   "execution_count": 6,
   "metadata": {},
   "outputs": [],
   "source": [
    "train_id=list(train_data['ID'])"
   ]
  },
  {
   "cell_type": "code",
   "execution_count": 7,
   "metadata": {},
   "outputs": [
    {
     "data": {
      "text/plain": [
       "['377.jpg', '17814.jpg', '21283.jpg', '16496.jpg', '4487.jpg']"
      ]
     },
     "execution_count": 7,
     "metadata": {},
     "output_type": "execute_result"
    }
   ],
   "source": [
    "train_id[:5]"
   ]
  },
  {
   "cell_type": "code",
   "execution_count": 8,
   "metadata": {},
   "outputs": [],
   "source": [
    "test_id=list(test_data['ID'])"
   ]
  },
  {
   "cell_type": "code",
   "execution_count": 9,
   "metadata": {},
   "outputs": [
    {
     "data": {
      "text/plain": [
       "['25321.jpg', '989.jpg', '19277.jpg', '13093.jpg', '5367.jpg']"
      ]
     },
     "execution_count": 9,
     "metadata": {},
     "output_type": "execute_result"
    }
   ],
   "source": [
    "test_id[:5]"
   ]
  },
  {
   "cell_type": "code",
   "execution_count": 10,
   "metadata": {},
   "outputs": [],
   "source": [
    "train_labels=list(train_data['Class'])"
   ]
  },
  {
   "cell_type": "code",
   "execution_count": 11,
   "metadata": {},
   "outputs": [
    {
     "data": {
      "text/plain": [
       "['MIDDLE', 'YOUNG', 'MIDDLE', 'YOUNG', 'MIDDLE']"
      ]
     },
     "execution_count": 11,
     "metadata": {},
     "output_type": "execute_result"
    }
   ],
   "source": [
    "train_labels[:5]"
   ]
  },
  {
   "cell_type": "code",
   "execution_count": null,
   "metadata": {},
   "outputs": [],
   "source": []
  },
  {
   "cell_type": "markdown",
   "metadata": {},
   "source": [
    "## Directory Seperation"
   ]
  },
  {
   "cell_type": "code",
   "execution_count": 12,
   "metadata": {},
   "outputs": [],
   "source": [
    "import os,shutil"
   ]
  },
  {
   "cell_type": "code",
   "execution_count": 13,
   "metadata": {},
   "outputs": [],
   "source": [
    "original_dir='/home/acsrikar/Desktop/Age Detection'\n",
    "base_dir='/home/acsrikar/Desktop/Augmented'\n",
    "os.mkdir(base_dir)"
   ]
  },
  {
   "cell_type": "code",
   "execution_count": 14,
   "metadata": {},
   "outputs": [],
   "source": [
    "train_dir=os.path.join(base_dir,'Train')\n",
    "os.mkdir(train_dir)\n",
    "test_dir=os.path.join(base_dir,'Test')\n",
    "os.mkdir(test_dir)"
   ]
  },
  {
   "cell_type": "code",
   "execution_count": 15,
   "metadata": {},
   "outputs": [],
   "source": [
    "train_young_dir=os.path.join(train_dir,'YOUNG')\n",
    "os.mkdir(train_young_dir)\n",
    "train_middle_dir=os.path.join(train_dir,'MIDDLE')\n",
    "os.mkdir(train_middle_dir)\n",
    "train_old_dir=os.path.join(train_dir,'OLD')\n",
    "os.mkdir(train_old_dir)"
   ]
  },
  {
   "cell_type": "code",
   "execution_count": 17,
   "metadata": {},
   "outputs": [],
   "source": [
    "originial_dir_train='/home/acsrikar/Desktop/Train'\n",
    "for i in range(len(train_id)):\n",
    "    if train_labels[i]=='YOUNG':\n",
    "        src=os.path.join(originial_dir_train,train_id[i])\n",
    "        dst=os.path.join(train_young_dir,train_id[i])\n",
    "        shutil.copyfile(src,dst)\n",
    "    elif train_labels[i]=='MIDDLE':\n",
    "        src=os.path.join(originial_dir_train,train_id[i])\n",
    "        dst=os.path.join(train_middle_dir,train_id[i])\n",
    "        shutil.copyfile(src,dst)\n",
    "    elif train_labels[i]=='OLD':\n",
    "        src=os.path.join(originial_dir_train,train_id[i])\n",
    "        dst=os.path.join(train_old_dir,train_id[i])\n",
    "        shutil.copyfile(src,dst)"
   ]
  },
  {
   "cell_type": "code",
   "execution_count": 18,
   "metadata": {},
   "outputs": [
    {
     "data": {
      "text/plain": [
       "2396"
      ]
     },
     "execution_count": 18,
     "metadata": {},
     "output_type": "execute_result"
    }
   ],
   "source": [
    "len(os.listdir(train_old_dir))"
   ]
  },
  {
   "cell_type": "code",
   "execution_count": 19,
   "metadata": {},
   "outputs": [
    {
     "data": {
      "text/plain": [
       "10804"
      ]
     },
     "execution_count": 19,
     "metadata": {},
     "output_type": "execute_result"
    }
   ],
   "source": [
    "len(os.listdir(train_middle_dir))"
   ]
  },
  {
   "cell_type": "code",
   "execution_count": 20,
   "metadata": {},
   "outputs": [
    {
     "data": {
      "text/plain": [
       "6706"
      ]
     },
     "execution_count": 20,
     "metadata": {},
     "output_type": "execute_result"
    }
   ],
   "source": [
    "len(os.listdir(train_young_dir))"
   ]
  },
  {
   "cell_type": "code",
   "execution_count": null,
   "metadata": {},
   "outputs": [],
   "source": []
  },
  {
   "cell_type": "markdown",
   "metadata": {},
   "source": [
    "## Model Selection"
   ]
  },
  {
   "cell_type": "code",
   "execution_count": 21,
   "metadata": {},
   "outputs": [],
   "source": [
    "model=Sequential()"
   ]
  },
  {
   "cell_type": "code",
   "execution_count": 22,
   "metadata": {},
   "outputs": [],
   "source": [
    "model.add(layers.InputLayer(input_shape=(48,48,3)))"
   ]
  },
  {
   "cell_type": "code",
   "execution_count": 23,
   "metadata": {},
   "outputs": [],
   "source": [
    "model.add(layers.Conv2D(128,(5,5),activation='relu',input_shape=(48,48,3)))"
   ]
  },
  {
   "cell_type": "code",
   "execution_count": 24,
   "metadata": {},
   "outputs": [],
   "source": [
    "model.add(layers.MaxPool2D(pool_size=(2,2)))"
   ]
  },
  {
   "cell_type": "code",
   "execution_count": 25,
   "metadata": {},
   "outputs": [],
   "source": [
    "model.add(layers.Dropout(0.25))"
   ]
  },
  {
   "cell_type": "code",
   "execution_count": 26,
   "metadata": {},
   "outputs": [],
   "source": [
    "model.add(layers.Conv2D(128,(3,3),activation='relu'))"
   ]
  },
  {
   "cell_type": "code",
   "execution_count": 27,
   "metadata": {},
   "outputs": [],
   "source": [
    "model.add(layers.MaxPool2D(pool_size=(2,2)))"
   ]
  },
  {
   "cell_type": "code",
   "execution_count": 28,
   "metadata": {},
   "outputs": [],
   "source": [
    "model.add(layers.Dropout(0.5))"
   ]
  },
  {
   "cell_type": "code",
   "execution_count": 29,
   "metadata": {},
   "outputs": [
    {
     "name": "stdout",
     "output_type": "stream",
     "text": [
      "_________________________________________________________________\n",
      "Layer (type)                 Output Shape              Param #   \n",
      "=================================================================\n",
      "input_1 (InputLayer)         (None, 48, 48, 3)         0         \n",
      "_________________________________________________________________\n",
      "conv2d_1 (Conv2D)            (None, 44, 44, 128)       9728      \n",
      "_________________________________________________________________\n",
      "max_pooling2d_1 (MaxPooling2 (None, 22, 22, 128)       0         \n",
      "_________________________________________________________________\n",
      "dropout_1 (Dropout)          (None, 22, 22, 128)       0         \n",
      "_________________________________________________________________\n",
      "conv2d_2 (Conv2D)            (None, 20, 20, 128)       147584    \n",
      "_________________________________________________________________\n",
      "max_pooling2d_2 (MaxPooling2 (None, 10, 10, 128)       0         \n",
      "_________________________________________________________________\n",
      "dropout_2 (Dropout)          (None, 10, 10, 128)       0         \n",
      "=================================================================\n",
      "Total params: 157,312\n",
      "Trainable params: 157,312\n",
      "Non-trainable params: 0\n",
      "_________________________________________________________________\n"
     ]
    }
   ],
   "source": [
    "model.summary()"
   ]
  },
  {
   "cell_type": "code",
   "execution_count": 31,
   "metadata": {},
   "outputs": [],
   "source": [
    "model.add(layers.Flatten())"
   ]
  },
  {
   "cell_type": "code",
   "execution_count": 32,
   "metadata": {},
   "outputs": [],
   "source": [
    "model.add(layers.Dense(256,activation='relu'))"
   ]
  },
  {
   "cell_type": "code",
   "execution_count": 33,
   "metadata": {},
   "outputs": [],
   "source": [
    "model.add(layers.Dense(128,activation='relu'))"
   ]
  },
  {
   "cell_type": "code",
   "execution_count": 34,
   "metadata": {},
   "outputs": [],
   "source": [
    "model.add(layers.Dense(3,activation='softmax'))"
   ]
  },
  {
   "cell_type": "code",
   "execution_count": 35,
   "metadata": {},
   "outputs": [
    {
     "name": "stdout",
     "output_type": "stream",
     "text": [
      "_________________________________________________________________\n",
      "Layer (type)                 Output Shape              Param #   \n",
      "=================================================================\n",
      "input_1 (InputLayer)         (None, 48, 48, 3)         0         \n",
      "_________________________________________________________________\n",
      "conv2d_1 (Conv2D)            (None, 44, 44, 128)       9728      \n",
      "_________________________________________________________________\n",
      "max_pooling2d_1 (MaxPooling2 (None, 22, 22, 128)       0         \n",
      "_________________________________________________________________\n",
      "dropout_1 (Dropout)          (None, 22, 22, 128)       0         \n",
      "_________________________________________________________________\n",
      "conv2d_2 (Conv2D)            (None, 20, 20, 128)       147584    \n",
      "_________________________________________________________________\n",
      "max_pooling2d_2 (MaxPooling2 (None, 10, 10, 128)       0         \n",
      "_________________________________________________________________\n",
      "dropout_2 (Dropout)          (None, 10, 10, 128)       0         \n",
      "_________________________________________________________________\n",
      "flatten_1 (Flatten)          (None, 12800)             0         \n",
      "_________________________________________________________________\n",
      "dense_1 (Dense)              (None, 256)               3277056   \n",
      "_________________________________________________________________\n",
      "dense_2 (Dense)              (None, 128)               32896     \n",
      "_________________________________________________________________\n",
      "dense_3 (Dense)              (None, 3)                 387       \n",
      "=================================================================\n",
      "Total params: 3,467,651\n",
      "Trainable params: 3,467,651\n",
      "Non-trainable params: 0\n",
      "_________________________________________________________________\n"
     ]
    }
   ],
   "source": [
    "model.summary()"
   ]
  },
  {
   "cell_type": "code",
   "execution_count": 36,
   "metadata": {},
   "outputs": [],
   "source": [
    "model.compile(optimizer='adam',loss='categorical_crossentropy',metrics=['acc'])"
   ]
  },
  {
   "cell_type": "code",
   "execution_count": null,
   "metadata": {},
   "outputs": [],
   "source": []
  },
  {
   "cell_type": "markdown",
   "metadata": {},
   "source": [
    "## Augmentation"
   ]
  },
  {
   "cell_type": "code",
   "execution_count": 37,
   "metadata": {},
   "outputs": [],
   "source": [
    "from keras.preprocessing.image import ImageDataGenerator"
   ]
  },
  {
   "cell_type": "code",
   "execution_count": 38,
   "metadata": {},
   "outputs": [
    {
     "name": "stdout",
     "output_type": "stream",
     "text": [
      "Found 19906 images belonging to 3 classes.\n"
     ]
    }
   ],
   "source": [
    "from keras.preprocessing.image import ImageDataGenerator\n",
    "\n",
    "# All images will be rescaled by 1./255\n",
    "train_datagen = ImageDataGenerator(rescale=1./255)\n",
    "test_datagen = ImageDataGenerator(rescale=1./255)\n",
    "\n",
    "train_generator = train_datagen.flow_from_directory(\n",
    "        # This is the target directory\n",
    "        train_dir,\n",
    "        # All images will be resized to 150x150\n",
    "        target_size=(48, 48),\n",
    "        batch_size=512,\n",
    "        # Since we use binary_crossentropy loss, we need binary labels\n",
    "        class_mode='categorical')"
   ]
  },
  {
   "cell_type": "code",
   "execution_count": 39,
   "metadata": {},
   "outputs": [
    {
     "name": "stdout",
     "output_type": "stream",
     "text": [
      "data batch shape: (512, 48, 48, 3)\n",
      "labels batch shape: (512, 3)\n"
     ]
    }
   ],
   "source": [
    "for data_batch, labels_batch in train_generator:\n",
    "    print('data batch shape:', data_batch.shape)\n",
    "    print('labels batch shape:', labels_batch.shape)\n",
    "    break"
   ]
  },
  {
   "cell_type": "code",
   "execution_count": 40,
   "metadata": {
    "scrolled": true
   },
   "outputs": [
    {
     "name": "stdout",
     "output_type": "stream",
     "text": [
      "Epoch 1/50\n",
      "39/39 [==============================] - 11s 272ms/step - loss: 0.9747 - acc: 0.5282\n",
      "Epoch 2/50\n",
      "39/39 [==============================] - 6s 155ms/step - loss: 0.8667 - acc: 0.5928\n",
      "Epoch 3/50\n",
      "39/39 [==============================] - 6s 156ms/step - loss: 0.7863 - acc: 0.6496\n",
      "Epoch 4/50\n",
      "39/39 [==============================] - 6s 157ms/step - loss: 0.7438 - acc: 0.6725\n",
      "Epoch 5/50\n",
      "39/39 [==============================] - 6s 156ms/step - loss: 0.7059 - acc: 0.6874\n",
      "Epoch 6/50\n",
      "39/39 [==============================] - 6s 157ms/step - loss: 0.6805 - acc: 0.7019\n",
      "Epoch 7/50\n",
      "39/39 [==============================] - 6s 155ms/step - loss: 0.6491 - acc: 0.7182\n",
      "Epoch 8/50\n",
      "39/39 [==============================] - 6s 155ms/step - loss: 0.6255 - acc: 0.7340\n",
      "Epoch 9/50\n",
      "39/39 [==============================] - 6s 154ms/step - loss: 0.6005 - acc: 0.7429\n",
      "Epoch 10/50\n",
      "39/39 [==============================] - 6s 161ms/step - loss: 0.5793 - acc: 0.7542\n",
      "Epoch 11/50\n",
      "39/39 [==============================] - 7s 174ms/step - loss: 0.5460 - acc: 0.7697\n",
      "Epoch 12/50\n",
      "39/39 [==============================] - 6s 161ms/step - loss: 0.5103 - acc: 0.7886\n",
      "Epoch 13/50\n",
      "39/39 [==============================] - 6s 162ms/step - loss: 0.4916 - acc: 0.8028\n",
      "Epoch 14/50\n",
      "39/39 [==============================] - 6s 163ms/step - loss: 0.4667 - acc: 0.8090\n",
      "Epoch 15/50\n",
      "39/39 [==============================] - 6s 165ms/step - loss: 0.4438 - acc: 0.8191\n",
      "Epoch 16/50\n",
      "39/39 [==============================] - 7s 175ms/step - loss: 0.4205 - acc: 0.8297\n",
      "Epoch 17/50\n",
      "39/39 [==============================] - 7s 177ms/step - loss: 0.3982 - acc: 0.8375\n",
      "Epoch 18/50\n",
      "39/39 [==============================] - 6s 167ms/step - loss: 0.3749 - acc: 0.8503\n",
      "Epoch 19/50\n",
      "39/39 [==============================] - 6s 161ms/step - loss: 0.3455 - acc: 0.8618\n",
      "Epoch 20/50\n",
      "39/39 [==============================] - 6s 164ms/step - loss: 0.3332 - acc: 0.8673\n",
      "Epoch 21/50\n",
      "39/39 [==============================] - 6s 156ms/step - loss: 0.3096 - acc: 0.8790\n",
      "Epoch 22/50\n",
      "39/39 [==============================] - 6s 155ms/step - loss: 0.2978 - acc: 0.8837\n",
      "Epoch 23/50\n",
      "39/39 [==============================] - 6s 157ms/step - loss: 0.2779 - acc: 0.8906\n",
      "Epoch 24/50\n",
      "39/39 [==============================] - 7s 171ms/step - loss: 0.2594 - acc: 0.8988\n",
      "Epoch 25/50\n",
      "39/39 [==============================] - 6s 164ms/step - loss: 0.2458 - acc: 0.9042\n",
      "Epoch 26/50\n",
      "39/39 [==============================] - 6s 156ms/step - loss: 0.2254 - acc: 0.9123\n",
      "Epoch 27/50\n",
      "39/39 [==============================] - 7s 169ms/step - loss: 0.2112 - acc: 0.9167\n",
      "Epoch 28/50\n",
      "39/39 [==============================] - 7s 169ms/step - loss: 0.1957 - acc: 0.9250\n",
      "Epoch 29/50\n",
      "39/39 [==============================] - 6s 158ms/step - loss: 0.1821 - acc: 0.9314\n",
      "Epoch 30/50\n",
      "39/39 [==============================] - 6s 156ms/step - loss: 0.1742 - acc: 0.9342\n",
      "Epoch 31/50\n",
      "39/39 [==============================] - 6s 157ms/step - loss: 0.1717 - acc: 0.9340\n",
      "Epoch 32/50\n",
      "39/39 [==============================] - 6s 162ms/step - loss: 0.1584 - acc: 0.9404\n",
      "Epoch 33/50\n",
      "39/39 [==============================] - 6s 166ms/step - loss: 0.1443 - acc: 0.9473\n",
      "Epoch 34/50\n",
      "39/39 [==============================] - 7s 180ms/step - loss: 0.1367 - acc: 0.9471\n",
      "Epoch 35/50\n",
      "39/39 [==============================] - 6s 157ms/step - loss: 0.1265 - acc: 0.9517\n",
      "Epoch 36/50\n",
      "39/39 [==============================] - 6s 158ms/step - loss: 0.1142 - acc: 0.9581\n",
      "Epoch 37/50\n",
      "39/39 [==============================] - 6s 165ms/step - loss: 0.1198 - acc: 0.9543\n",
      "Epoch 38/50\n",
      "39/39 [==============================] - 6s 161ms/step - loss: 0.1150 - acc: 0.9574\n",
      "Epoch 39/50\n",
      "39/39 [==============================] - 7s 174ms/step - loss: 0.1166 - acc: 0.9565\n",
      "Epoch 40/50\n",
      "39/39 [==============================] - 7s 174ms/step - loss: 0.1059 - acc: 0.9606\n",
      "Epoch 41/50\n",
      "39/39 [==============================] - 7s 171ms/step - loss: 0.1019 - acc: 0.9634\n",
      "Epoch 42/50\n",
      "39/39 [==============================] - 7s 168ms/step - loss: 0.0962 - acc: 0.9645\n",
      "Epoch 43/50\n",
      "39/39 [==============================] - 7s 171ms/step - loss: 0.0894 - acc: 0.9681\n",
      "Epoch 44/50\n",
      "39/39 [==============================] - 7s 178ms/step - loss: 0.0819 - acc: 0.9706\n",
      "Epoch 45/50\n",
      "39/39 [==============================] - 7s 181ms/step - loss: 0.0872 - acc: 0.9679\n",
      "Epoch 46/50\n",
      "39/39 [==============================] - 7s 169ms/step - loss: 0.0810 - acc: 0.9708\n",
      "Epoch 47/50\n",
      "39/39 [==============================] - 7s 169ms/step - loss: 0.0795 - acc: 0.9717\n",
      "Epoch 48/50\n",
      "39/39 [==============================] - 6s 166ms/step - loss: 0.0623 - acc: 0.9784\n",
      "Epoch 49/50\n",
      "39/39 [==============================] - 7s 180ms/step - loss: 0.0694 - acc: 0.9740\n",
      "Epoch 50/50\n",
      "39/39 [==============================] - 7s 173ms/step - loss: 0.0690 - acc: 0.9755\n"
     ]
    }
   ],
   "source": [
    "hist=model.fit_generator(\n",
    "      train_generator,\n",
    "    steps_per_epoch=39,\n",
    "      epochs=50)"
   ]
  },
  {
   "cell_type": "code",
   "execution_count": 41,
   "metadata": {},
   "outputs": [
    {
     "data": {
      "image/png": "[encoded data removed]",
      "text/plain": [
       "<Figure size 432x288 with 1 Axes>"
      ]
     },
     "metadata": {},
     "output_type": "display_data"
    },
    {
     "data": {
      "image/png": "[encoded data removed]",
      "text/plain": [
       "<Figure size 432x288 with 1 Axes>"
      ]
     },
     "metadata": {},
     "output_type": "display_data"
    }
   ],
   "source": [
    "import matplotlib.pyplot as plt\n",
    "\n",
    "acc = hist.history['acc']\n",
    "loss = hist.history['loss']\n",
    "\n",
    "epochs = range(len(acc))\n",
    "\n",
    "plt.plot(epochs, acc, 'bo', label='Training acc')\n",
    "plt.title('Training accuracy')\n",
    "plt.legend()\n",
    "\n",
    "plt.figure()\n",
    "\n",
    "plt.plot(epochs, loss, 'bo', label='Training loss')\n",
    "plt.title('Training loss')\n",
    "plt.legend()\n",
    "\n",
    "plt.show()"
   ]
  },
  {
   "cell_type": "code",
   "execution_count": 42,
   "metadata": {
    "scrolled": true
   },
   "outputs": [
    {
     "name": "stdout",
     "output_type": "stream",
     "text": [
      "Found 19906 images belonging to 3 classes.\n",
      "Epoch 1/300\n",
      "39/39 [==============================] - 19s 482ms/step - loss: 1.0244 - acc: 0.5613\n",
      "Epoch 2/300\n",
      "39/39 [==============================] - 17s 428ms/step - loss: 0.8521 - acc: 0.5997\n",
      "Epoch 3/300\n",
      "39/39 [==============================] - 18s 473ms/step - loss: 0.8183 - acc: 0.6235\n",
      "Epoch 4/300\n",
      "39/39 [==============================] - 18s 463ms/step - loss: 0.7912 - acc: 0.6418\n",
      "Epoch 5/300\n",
      "39/39 [==============================] - 17s 423ms/step - loss: 0.7694 - acc: 0.6506\n",
      "Epoch 6/300\n",
      "39/39 [==============================] - 17s 444ms/step - loss: 0.7487 - acc: 0.6605\n",
      "Epoch 7/300\n",
      "39/39 [==============================] - 17s 445ms/step - loss: 0.7295 - acc: 0.6752\n",
      "Epoch 8/300\n",
      "39/39 [==============================] - 17s 445ms/step - loss: 0.7185 - acc: 0.6822\n",
      "Epoch 9/300\n",
      "39/39 [==============================] - 16s 421ms/step - loss: 0.7040 - acc: 0.6881\n",
      "Epoch 10/300\n",
      "39/39 [==============================] - 17s 424ms/step - loss: 0.6951 - acc: 0.6960\n",
      "Epoch 11/300\n",
      "39/39 [==============================] - 17s 429ms/step - loss: 0.6872 - acc: 0.7004\n",
      "Epoch 12/300\n",
      "39/39 [==============================] - 18s 458ms/step - loss: 0.6796 - acc: 0.7030\n",
      "Epoch 13/300\n",
      "39/39 [==============================] - 17s 428ms/step - loss: 0.6738 - acc: 0.7033\n",
      "Epoch 14/300\n",
      "39/39 [==============================] - 17s 440ms/step - loss: 0.6651 - acc: 0.7111\n",
      "Epoch 15/300\n",
      "39/39 [==============================] - 16s 415ms/step - loss: 0.6542 - acc: 0.7138\n",
      "Epoch 16/300\n",
      "39/39 [==============================] - 17s 436ms/step - loss: 0.6583 - acc: 0.7147\n",
      "Epoch 17/300\n",
      "39/39 [==============================] - 17s 448ms/step - loss: 0.6537 - acc: 0.7170\n",
      "Epoch 18/300\n",
      "39/39 [==============================] - 16s 419ms/step - loss: 0.6449 - acc: 0.7193\n",
      "Epoch 19/300\n",
      "39/39 [==============================] - 16s 412ms/step - loss: 0.6470 - acc: 0.7227\n",
      "Epoch 20/300\n",
      "39/39 [==============================] - 17s 426ms/step - loss: 0.6301 - acc: 0.7294\n",
      "Epoch 21/300\n",
      "39/39 [==============================] - 17s 426ms/step - loss: 0.6413 - acc: 0.7253\n",
      "Epoch 22/300\n",
      "39/39 [==============================] - 16s 405ms/step - loss: 0.6308 - acc: 0.7280\n",
      "Epoch 23/300\n",
      "39/39 [==============================] - 17s 431ms/step - loss: 0.6276 - acc: 0.7319\n",
      "Epoch 24/300\n",
      "39/39 [==============================] - 17s 442ms/step - loss: 0.6222 - acc: 0.7374\n",
      "Epoch 25/300\n",
      "39/39 [==============================] - 16s 411ms/step - loss: 0.6172 - acc: 0.7334\n",
      "Epoch 26/300\n",
      "39/39 [==============================] - 17s 441ms/step - loss: 0.6100 - acc: 0.7406\n",
      "Epoch 27/300\n",
      "39/39 [==============================] - 15s 391ms/step - loss: 0.6091 - acc: 0.7410\n",
      "Epoch 28/300\n",
      "39/39 [==============================] - 17s 433ms/step - loss: 0.6065 - acc: 0.7412\n",
      "Epoch 29/300\n",
      "39/39 [==============================] - 16s 422ms/step - loss: 0.5994 - acc: 0.7441\n",
      "Epoch 30/300\n",
      "39/39 [==============================] - 16s 406ms/step - loss: 0.6009 - acc: 0.7434\n",
      "Epoch 31/300\n",
      "39/39 [==============================] - 18s 450ms/step - loss: 0.5991 - acc: 0.7456\n",
      "Epoch 32/300\n",
      "39/39 [==============================] - 16s 410ms/step - loss: 0.5908 - acc: 0.7511\n",
      "Epoch 33/300\n",
      "39/39 [==============================] - 16s 402ms/step - loss: 0.5854 - acc: 0.7532\n",
      "Epoch 34/300\n",
      "39/39 [==============================] - 16s 406ms/step - loss: 0.5853 - acc: 0.7505\n",
      "Epoch 35/300\n",
      "39/39 [==============================] - 16s 419ms/step - loss: 0.5800 - acc: 0.7559\n",
      "Epoch 36/300\n",
      "39/39 [==============================] - 16s 405ms/step - loss: 0.5853 - acc: 0.7513\n",
      "Epoch 37/300\n",
      "39/39 [==============================] - 16s 415ms/step - loss: 0.5837 - acc: 0.7538\n",
      "Epoch 38/300\n",
      "39/39 [==============================] - 15s 394ms/step - loss: 0.5762 - acc: 0.7597\n",
      "Epoch 39/300\n",
      "39/39 [==============================] - 16s 420ms/step - loss: 0.5767 - acc: 0.7553\n",
      "Epoch 40/300\n",
      "39/39 [==============================] - 16s 420ms/step - loss: 0.5670 - acc: 0.7563\n",
      "Epoch 41/300\n",
      "39/39 [==============================] - 15s 393ms/step - loss: 0.5680 - acc: 0.7617\n",
      "Epoch 42/300\n",
      "39/39 [==============================] - 16s 399ms/step - loss: 0.5656 - acc: 0.7615\n",
      "Epoch 43/300\n",
      "39/39 [==============================] - 16s 419ms/step - loss: 0.5697 - acc: 0.7607\n",
      "Epoch 44/300\n",
      "39/39 [==============================] - 17s 444ms/step - loss: 0.5570 - acc: 0.7627\n",
      "Epoch 45/300\n",
      "39/39 [==============================] - 17s 431ms/step - loss: 0.5612 - acc: 0.7655\n",
      "Epoch 46/300\n",
      "39/39 [==============================] - 17s 431ms/step - loss: 0.5532 - acc: 0.7685\n",
      "Epoch 47/300\n",
      "39/39 [==============================] - 16s 406ms/step - loss: 0.5507 - acc: 0.7671\n",
      "Epoch 48/300\n",
      "39/39 [==============================] - 17s 440ms/step - loss: 0.5497 - acc: 0.7651\n",
      "Epoch 49/300\n",
      "39/39 [==============================] - 17s 438ms/step - loss: 0.5495 - acc: 0.7706\n",
      "Epoch 50/300\n",
      "39/39 [==============================] - 16s 409ms/step - loss: 0.5514 - acc: 0.7685\n",
      "Epoch 51/300\n",
      "39/39 [==============================] - 17s 431ms/step - loss: 0.5424 - acc: 0.7706\n",
      "Epoch 52/300\n",
      "39/39 [==============================] - 16s 406ms/step - loss: 0.5433 - acc: 0.7709\n",
      "Epoch 53/300\n",
      "39/39 [==============================] - 16s 417ms/step - loss: 0.5456 - acc: 0.7722\n",
      "Epoch 54/300\n",
      "39/39 [==============================] - 16s 404ms/step - loss: 0.5378 - acc: 0.7725\n",
      "Epoch 55/300\n",
      "39/39 [==============================] - 16s 419ms/step - loss: 0.5344 - acc: 0.7765\n",
      "Epoch 56/300\n",
      "39/39 [==============================] - 16s 416ms/step - loss: 0.5378 - acc: 0.7736\n",
      "Epoch 57/300\n",
      "39/39 [==============================] - 16s 420ms/step - loss: 0.5376 - acc: 0.7730\n",
      "Epoch 58/300\n",
      "39/39 [==============================] - 15s 397ms/step - loss: 0.5258 - acc: 0.7801\n",
      "Epoch 59/300\n",
      "39/39 [==============================] - 16s 405ms/step - loss: 0.5223 - acc: 0.7800\n",
      "Epoch 60/300\n",
      "39/39 [==============================] - 17s 433ms/step - loss: 0.5294 - acc: 0.7762\n",
      "Epoch 61/300\n",
      "39/39 [==============================] - 17s 429ms/step - loss: 0.5232 - acc: 0.7791\n",
      "Epoch 62/300\n",
      "39/39 [==============================] - 16s 413ms/step - loss: 0.5165 - acc: 0.7859\n",
      "Epoch 63/300\n",
      "39/39 [==============================] - 17s 448ms/step - loss: 0.5221 - acc: 0.7813\n",
      "Epoch 64/300\n",
      "39/39 [==============================] - 17s 436ms/step - loss: 0.5217 - acc: 0.7817\n",
      "Epoch 65/300\n",
      "39/39 [==============================] - 17s 432ms/step - loss: 0.5083 - acc: 0.7896\n",
      "Epoch 66/300\n",
      "39/39 [==============================] - 17s 426ms/step - loss: 0.5187 - acc: 0.7810\n",
      "Epoch 67/300\n",
      "39/39 [==============================] - 18s 451ms/step - loss: 0.5098 - acc: 0.7869\n",
      "Epoch 68/300\n",
      "39/39 [==============================] - 17s 428ms/step - loss: 0.5076 - acc: 0.7883\n",
      "Epoch 69/300\n",
      "39/39 [==============================] - 15s 392ms/step - loss: 0.5062 - acc: 0.7889\n",
      "Epoch 70/300\n",
      "39/39 [==============================] - 16s 421ms/step - loss: 0.5115 - acc: 0.7854\n",
      "Epoch 71/300\n",
      "39/39 [==============================] - 16s 412ms/step - loss: 0.4998 - acc: 0.7902\n",
      "Epoch 72/300\n",
      "39/39 [==============================] - 17s 435ms/step - loss: 0.5083 - acc: 0.7888\n",
      "Epoch 73/300\n",
      "39/39 [==============================] - 16s 403ms/step - loss: 0.5015 - acc: 0.7920\n",
      "Epoch 74/300\n",
      "39/39 [==============================] - 16s 420ms/step - loss: 0.4972 - acc: 0.7949\n",
      "Epoch 75/300\n",
      "39/39 [==============================] - 15s 390ms/step - loss: 0.4953 - acc: 0.7942\n",
      "Epoch 76/300\n",
      "39/39 [==============================] - 17s 438ms/step - loss: 0.4945 - acc: 0.7971\n",
      "Epoch 77/300\n",
      "39/39 [==============================] - 16s 421ms/step - loss: 0.4888 - acc: 0.7953\n",
      "Epoch 78/300\n",
      "39/39 [==============================] - 17s 429ms/step - loss: 0.4933 - acc: 0.7944\n",
      "Epoch 79/300\n",
      "39/39 [==============================] - 16s 417ms/step - loss: 0.4972 - acc: 0.7959\n",
      "Epoch 80/300\n",
      "39/39 [==============================] - 17s 435ms/step - loss: 0.4914 - acc: 0.7974\n",
      "Epoch 81/300\n",
      "39/39 [==============================] - 17s 440ms/step - loss: 0.4874 - acc: 0.7957\n",
      "Epoch 82/300\n",
      "39/39 [==============================] - 17s 446ms/step - loss: 0.4884 - acc: 0.7948\n",
      "Epoch 83/300\n",
      "39/39 [==============================] - 17s 444ms/step - loss: 0.4797 - acc: 0.8045\n",
      "Epoch 84/300\n"
     ]
    },
    {
     "name": "stdout",
     "output_type": "stream",
     "text": [
      "39/39 [==============================] - 17s 434ms/step - loss: 0.4852 - acc: 0.8007\n",
      "Epoch 85/300\n",
      "39/39 [==============================] - 17s 436ms/step - loss: 0.4784 - acc: 0.8016\n",
      "Epoch 86/300\n",
      "39/39 [==============================] - 17s 431ms/step - loss: 0.4740 - acc: 0.8061\n",
      "Epoch 87/300\n",
      "39/39 [==============================] - 17s 426ms/step - loss: 0.4872 - acc: 0.7987\n",
      "Epoch 88/300\n",
      "39/39 [==============================] - 18s 459ms/step - loss: 0.4896 - acc: 0.7943\n",
      "Epoch 89/300\n",
      "39/39 [==============================] - 17s 432ms/step - loss: 0.4788 - acc: 0.8027\n",
      "Epoch 90/300\n",
      "39/39 [==============================] - 16s 403ms/step - loss: 0.4791 - acc: 0.8021\n",
      "Epoch 91/300\n",
      "39/39 [==============================] - 17s 425ms/step - loss: 0.4734 - acc: 0.8078\n",
      "Epoch 92/300\n",
      "39/39 [==============================] - 16s 412ms/step - loss: 0.4775 - acc: 0.8017\n",
      "Epoch 93/300\n",
      "39/39 [==============================] - 16s 420ms/step - loss: 0.4711 - acc: 0.8069\n",
      "Epoch 94/300\n",
      "39/39 [==============================] - 17s 433ms/step - loss: 0.4703 - acc: 0.8021\n",
      "Epoch 95/300\n",
      "39/39 [==============================] - 16s 418ms/step - loss: 0.4683 - acc: 0.8061\n",
      "Epoch 96/300\n",
      "39/39 [==============================] - 16s 418ms/step - loss: 0.4646 - acc: 0.8072\n",
      "Epoch 97/300\n",
      "39/39 [==============================] - 17s 439ms/step - loss: 0.4589 - acc: 0.8109\n",
      "Epoch 98/300\n",
      "39/39 [==============================] - 16s 420ms/step - loss: 0.4669 - acc: 0.8089\n",
      "Epoch 99/300\n",
      "39/39 [==============================] - 16s 417ms/step - loss: 0.4612 - acc: 0.8100\n",
      "Epoch 100/300\n",
      "39/39 [==============================] - 17s 441ms/step - loss: 0.4606 - acc: 0.8106\n",
      "Epoch 101/300\n",
      "39/39 [==============================] - 16s 401ms/step - loss: 0.4700 - acc: 0.8067\n",
      "Epoch 102/300\n",
      "39/39 [==============================] - 17s 436ms/step - loss: 0.4582 - acc: 0.8103\n",
      "Epoch 103/300\n",
      "39/39 [==============================] - 17s 432ms/step - loss: 0.4571 - acc: 0.8154\n",
      "Epoch 104/300\n",
      "39/39 [==============================] - 19s 482ms/step - loss: 0.4594 - acc: 0.8078\n",
      "Epoch 105/300\n",
      "39/39 [==============================] - 17s 425ms/step - loss: 0.4495 - acc: 0.8170\n",
      "Epoch 106/300\n",
      "39/39 [==============================] - 16s 404ms/step - loss: 0.4588 - acc: 0.8091\n",
      "Epoch 107/300\n",
      "39/39 [==============================] - 17s 424ms/step - loss: 0.4503 - acc: 0.8138\n",
      "Epoch 108/300\n",
      "39/39 [==============================] - 16s 414ms/step - loss: 0.4476 - acc: 0.8153\n",
      "Epoch 109/300\n",
      "39/39 [==============================] - 17s 425ms/step - loss: 0.4531 - acc: 0.8164\n",
      "Epoch 110/300\n",
      "39/39 [==============================] - 17s 441ms/step - loss: 0.4442 - acc: 0.8149\n",
      "Epoch 111/300\n",
      "39/39 [==============================] - 17s 445ms/step - loss: 0.4562 - acc: 0.8137\n",
      "Epoch 112/300\n",
      "39/39 [==============================] - 17s 425ms/step - loss: 0.4488 - acc: 0.8145\n",
      "Epoch 113/300\n",
      "39/39 [==============================] - 17s 439ms/step - loss: 0.4470 - acc: 0.8175\n",
      "Epoch 114/300\n",
      "39/39 [==============================] - 17s 428ms/step - loss: 0.4474 - acc: 0.8181\n",
      "Epoch 115/300\n",
      "39/39 [==============================] - 17s 445ms/step - loss: 0.4401 - acc: 0.8198\n",
      "Epoch 116/300\n",
      "39/39 [==============================] - 19s 479ms/step - loss: 0.4421 - acc: 0.8193\n",
      "Epoch 117/300\n",
      "39/39 [==============================] - 17s 441ms/step - loss: 0.4509 - acc: 0.8175\n",
      "Epoch 118/300\n",
      "39/39 [==============================] - 18s 451ms/step - loss: 0.4405 - acc: 0.8197\n",
      "Epoch 119/300\n",
      "39/39 [==============================] - 18s 465ms/step - loss: 0.4339 - acc: 0.8225\n",
      "Epoch 120/300\n",
      "39/39 [==============================] - 17s 441ms/step - loss: 0.4369 - acc: 0.8205\n",
      "Epoch 121/300\n",
      "39/39 [==============================] - 17s 441ms/step - loss: 0.4457 - acc: 0.8196\n",
      "Epoch 122/300\n",
      "39/39 [==============================] - 17s 427ms/step - loss: 0.4442 - acc: 0.8154\n",
      "Epoch 123/300\n",
      "39/39 [==============================] - 17s 440ms/step - loss: 0.4327 - acc: 0.8248\n",
      "Epoch 124/300\n",
      "39/39 [==============================] - 16s 414ms/step - loss: 0.4398 - acc: 0.8196\n",
      "Epoch 125/300\n",
      "39/39 [==============================] - 17s 438ms/step - loss: 0.4275 - acc: 0.8265\n",
      "Epoch 126/300\n",
      "39/39 [==============================] - 17s 434ms/step - loss: 0.4340 - acc: 0.8223\n",
      "Epoch 127/300\n",
      "39/39 [==============================] - 17s 438ms/step - loss: 0.4380 - acc: 0.8184\n",
      "Epoch 128/300\n",
      "39/39 [==============================] - 16s 413ms/step - loss: 0.4292 - acc: 0.8236\n",
      "Epoch 129/300\n",
      "39/39 [==============================] - 17s 436ms/step - loss: 0.4296 - acc: 0.8234\n",
      "Epoch 130/300\n",
      "39/39 [==============================] - 17s 433ms/step - loss: 0.4258 - acc: 0.8249\n",
      "Epoch 131/300\n",
      "39/39 [==============================] - 18s 449ms/step - loss: 0.4386 - acc: 0.8199\n",
      "Epoch 132/300\n",
      "39/39 [==============================] - 16s 414ms/step - loss: 0.4261 - acc: 0.8267\n",
      "Epoch 133/300\n",
      "39/39 [==============================] - 17s 435ms/step - loss: 0.4245 - acc: 0.8274\n",
      "Epoch 134/300\n",
      "39/39 [==============================] - 17s 423ms/step - loss: 0.4182 - acc: 0.8301\n",
      "Epoch 135/300\n",
      "39/39 [==============================] - 17s 443ms/step - loss: 0.4206 - acc: 0.8256\n",
      "Epoch 136/300\n",
      "39/39 [==============================] - 17s 437ms/step - loss: 0.4201 - acc: 0.8285\n",
      "Epoch 137/300\n",
      "39/39 [==============================] - 17s 430ms/step - loss: 0.4260 - acc: 0.8272\n",
      "Epoch 138/300\n",
      "39/39 [==============================] - 16s 403ms/step - loss: 0.4291 - acc: 0.8216\n",
      "Epoch 139/300\n",
      "39/39 [==============================] - 17s 427ms/step - loss: 0.4126 - acc: 0.8323\n",
      "Epoch 140/300\n",
      "39/39 [==============================] - 16s 412ms/step - loss: 0.4163 - acc: 0.8288\n",
      "Epoch 141/300\n",
      "39/39 [==============================] - 16s 422ms/step - loss: 0.4105 - acc: 0.8354\n",
      "Epoch 142/300\n",
      "39/39 [==============================] - 16s 418ms/step - loss: 0.4267 - acc: 0.8282\n",
      "Epoch 143/300\n",
      "39/39 [==============================] - 18s 453ms/step - loss: 0.4235 - acc: 0.8248\n",
      "Epoch 144/300\n",
      "39/39 [==============================] - 17s 432ms/step - loss: 0.4207 - acc: 0.8275\n",
      "Epoch 145/300\n",
      "39/39 [==============================] - 16s 419ms/step - loss: 0.4129 - acc: 0.8324\n",
      "Epoch 146/300\n",
      "39/39 [==============================] - 16s 420ms/step - loss: 0.4082 - acc: 0.8359\n",
      "Epoch 147/300\n",
      "39/39 [==============================] - 18s 456ms/step - loss: 0.4192 - acc: 0.8283\n",
      "Epoch 148/300\n",
      "39/39 [==============================] - 17s 424ms/step - loss: 0.4146 - acc: 0.8294\n",
      "Epoch 149/300\n",
      "39/39 [==============================] - 16s 409ms/step - loss: 0.4082 - acc: 0.8344\n",
      "Epoch 150/300\n",
      "39/39 [==============================] - 17s 444ms/step - loss: 0.4155 - acc: 0.8334\n",
      "Epoch 151/300\n",
      "39/39 [==============================] - 16s 402ms/step - loss: 0.4068 - acc: 0.8345\n",
      "Epoch 152/300\n",
      "39/39 [==============================] - 16s 413ms/step - loss: 0.4088 - acc: 0.8314\n",
      "Epoch 153/300\n",
      "39/39 [==============================] - 18s 465ms/step - loss: 0.4052 - acc: 0.8354\n",
      "Epoch 154/300\n",
      "39/39 [==============================] - 18s 453ms/step - loss: 0.4045 - acc: 0.8375\n",
      "Epoch 155/300\n",
      "39/39 [==============================] - 18s 456ms/step - loss: 0.4179 - acc: 0.8297\n",
      "Epoch 156/300\n",
      "39/39 [==============================] - 17s 445ms/step - loss: 0.4056 - acc: 0.8338\n",
      "Epoch 157/300\n",
      "39/39 [==============================] - 19s 488ms/step - loss: 0.3931 - acc: 0.8405\n",
      "Epoch 158/300\n",
      "39/39 [==============================] - 17s 431ms/step - loss: 0.3980 - acc: 0.8376\n",
      "Epoch 159/300\n",
      "39/39 [==============================] - 17s 427ms/step - loss: 0.4030 - acc: 0.8357\n",
      "Epoch 160/300\n",
      "39/39 [==============================] - 18s 457ms/step - loss: 0.3993 - acc: 0.8399\n",
      "Epoch 161/300\n",
      "39/39 [==============================] - 17s 441ms/step - loss: 0.4027 - acc: 0.8357\n",
      "Epoch 162/300\n",
      "39/39 [==============================] - 18s 452ms/step - loss: 0.4041 - acc: 0.8334\n",
      "Epoch 163/300\n",
      "39/39 [==============================] - 17s 436ms/step - loss: 0.4011 - acc: 0.8367\n",
      "Epoch 164/300\n",
      "39/39 [==============================] - 18s 452ms/step - loss: 0.4006 - acc: 0.8373\n",
      "Epoch 165/300\n",
      "39/39 [==============================] - 17s 428ms/step - loss: 0.3948 - acc: 0.8407\n",
      "Epoch 166/300\n",
      "39/39 [==============================] - 17s 426ms/step - loss: 0.3834 - acc: 0.8448\n",
      "Epoch 167/300\n"
     ]
    },
    {
     "name": "stdout",
     "output_type": "stream",
     "text": [
      "39/39 [==============================] - 18s 462ms/step - loss: 0.3980 - acc: 0.8393\n",
      "Epoch 168/300\n",
      "39/39 [==============================] - 18s 455ms/step - loss: 0.3964 - acc: 0.8378\n",
      "Epoch 169/300\n",
      "39/39 [==============================] - 17s 446ms/step - loss: 0.3902 - acc: 0.8411\n",
      "Epoch 170/300\n",
      "39/39 [==============================] - 17s 436ms/step - loss: 0.3924 - acc: 0.8413\n",
      "Epoch 171/300\n",
      "39/39 [==============================] - 17s 424ms/step - loss: 0.3912 - acc: 0.8415\n",
      "Epoch 172/300\n",
      "39/39 [==============================] - 18s 458ms/step - loss: 0.3933 - acc: 0.8403\n",
      "Epoch 173/300\n",
      "39/39 [==============================] - 17s 441ms/step - loss: 0.4019 - acc: 0.8391\n",
      "Epoch 174/300\n",
      "39/39 [==============================] - 18s 470ms/step - loss: 0.3889 - acc: 0.8434\n",
      "Epoch 175/300\n",
      "39/39 [==============================] - 17s 439ms/step - loss: 0.3868 - acc: 0.8434\n",
      "Epoch 176/300\n",
      "39/39 [==============================] - 17s 427ms/step - loss: 0.3821 - acc: 0.8426\n",
      "Epoch 177/300\n",
      "39/39 [==============================] - 17s 424ms/step - loss: 0.3824 - acc: 0.8440\n",
      "Epoch 178/300\n",
      "39/39 [==============================] - 17s 432ms/step - loss: 0.3879 - acc: 0.8445\n",
      "Epoch 179/300\n",
      "39/39 [==============================] - 16s 411ms/step - loss: 0.3853 - acc: 0.8432\n",
      "Epoch 180/300\n",
      "39/39 [==============================] - 17s 427ms/step - loss: 0.3823 - acc: 0.8426\n",
      "Epoch 181/300\n",
      "39/39 [==============================] - 16s 419ms/step - loss: 0.3931 - acc: 0.8385\n",
      "Epoch 182/300\n",
      "39/39 [==============================] - 17s 434ms/step - loss: 0.3857 - acc: 0.8437\n",
      "Epoch 183/300\n",
      "39/39 [==============================] - 18s 461ms/step - loss: 0.3897 - acc: 0.8404\n",
      "Epoch 184/300\n",
      "39/39 [==============================] - 17s 428ms/step - loss: 0.3872 - acc: 0.8421\n",
      "Epoch 185/300\n",
      "39/39 [==============================] - 17s 439ms/step - loss: 0.3846 - acc: 0.8448\n",
      "Epoch 186/300\n",
      "39/39 [==============================] - 16s 417ms/step - loss: 0.3831 - acc: 0.8442\n",
      "Epoch 187/300\n",
      "39/39 [==============================] - 17s 429ms/step - loss: 0.3860 - acc: 0.8430\n",
      "Epoch 188/300\n",
      "39/39 [==============================] - 18s 472ms/step - loss: 0.3841 - acc: 0.8472\n",
      "Epoch 189/300\n",
      "39/39 [==============================] - 16s 411ms/step - loss: 0.3826 - acc: 0.8445\n",
      "Epoch 190/300\n",
      "39/39 [==============================] - 16s 420ms/step - loss: 0.3781 - acc: 0.8466\n",
      "Epoch 191/300\n",
      "39/39 [==============================] - 17s 436ms/step - loss: 0.3754 - acc: 0.8475\n",
      "Epoch 192/300\n",
      "39/39 [==============================] - 16s 423ms/step - loss: 0.3789 - acc: 0.8456\n",
      "Epoch 193/300\n",
      "39/39 [==============================] - 16s 412ms/step - loss: 0.3766 - acc: 0.8496\n",
      "Epoch 194/300\n",
      "39/39 [==============================] - 16s 417ms/step - loss: 0.3786 - acc: 0.8471\n",
      "Epoch 195/300\n",
      "39/39 [==============================] - 16s 421ms/step - loss: 0.3815 - acc: 0.8443\n",
      "Epoch 196/300\n",
      "39/39 [==============================] - 18s 456ms/step - loss: 0.3717 - acc: 0.8498\n",
      "Epoch 197/300\n",
      "39/39 [==============================] - 17s 445ms/step - loss: 0.3674 - acc: 0.8537\n",
      "Epoch 198/300\n",
      "39/39 [==============================] - 18s 464ms/step - loss: 0.3733 - acc: 0.8482\n",
      "Epoch 199/300\n",
      "39/39 [==============================] - 18s 451ms/step - loss: 0.3831 - acc: 0.8437\n",
      "Epoch 200/300\n",
      "39/39 [==============================] - 18s 464ms/step - loss: 0.3616 - acc: 0.8551\n",
      "Epoch 201/300\n",
      "39/39 [==============================] - 17s 429ms/step - loss: 0.3697 - acc: 0.8501\n",
      "Epoch 202/300\n",
      "39/39 [==============================] - 17s 426ms/step - loss: 0.3659 - acc: 0.8525\n",
      "Epoch 203/300\n",
      "39/39 [==============================] - 18s 452ms/step - loss: 0.3705 - acc: 0.8494\n",
      "Epoch 204/300\n",
      "39/39 [==============================] - 17s 437ms/step - loss: 0.3793 - acc: 0.8445\n",
      "Epoch 205/300\n",
      "39/39 [==============================] - 17s 446ms/step - loss: 0.3709 - acc: 0.8507\n",
      "Epoch 206/300\n",
      "39/39 [==============================] - 17s 439ms/step - loss: 0.3764 - acc: 0.8475\n",
      "Epoch 207/300\n",
      "39/39 [==============================] - 16s 407ms/step - loss: 0.3706 - acc: 0.8515\n",
      "Epoch 208/300\n",
      "39/39 [==============================] - 18s 455ms/step - loss: 0.3694 - acc: 0.8497\n",
      "Epoch 209/300\n",
      "39/39 [==============================] - 17s 443ms/step - loss: 0.3711 - acc: 0.8527\n",
      "Epoch 210/300\n",
      "39/39 [==============================] - 17s 437ms/step - loss: 0.3765 - acc: 0.8483\n",
      "Epoch 211/300\n",
      "39/39 [==============================] - 17s 445ms/step - loss: 0.3827 - acc: 0.8448\n",
      "Epoch 212/300\n",
      "39/39 [==============================] - 16s 422ms/step - loss: 0.3568 - acc: 0.8557\n",
      "Epoch 213/300\n",
      "39/39 [==============================] - 18s 459ms/step - loss: 0.3593 - acc: 0.8528\n",
      "Epoch 214/300\n",
      "39/39 [==============================] - 17s 429ms/step - loss: 0.3610 - acc: 0.8528\n",
      "Epoch 215/300\n",
      "39/39 [==============================] - 18s 453ms/step - loss: 0.3633 - acc: 0.8529\n",
      "Epoch 216/300\n",
      "39/39 [==============================] - 17s 427ms/step - loss: 0.3607 - acc: 0.8561\n",
      "Epoch 217/300\n",
      "39/39 [==============================] - 18s 451ms/step - loss: 0.3572 - acc: 0.8553\n",
      "Epoch 218/300\n",
      "39/39 [==============================] - 17s 438ms/step - loss: 0.3656 - acc: 0.8508\n",
      "Epoch 219/300\n",
      "39/39 [==============================] - 17s 447ms/step - loss: 0.3587 - acc: 0.8568\n",
      "Epoch 220/300\n",
      "39/39 [==============================] - 16s 406ms/step - loss: 0.3614 - acc: 0.8572\n",
      "Epoch 221/300\n",
      "39/39 [==============================] - 16s 408ms/step - loss: 0.3640 - acc: 0.8529\n",
      "Epoch 222/300\n",
      "39/39 [==============================] - 17s 424ms/step - loss: 0.3611 - acc: 0.8543\n",
      "Epoch 223/300\n",
      "39/39 [==============================] - 16s 418ms/step - loss: 0.3582 - acc: 0.8553\n",
      "Epoch 224/300\n",
      "39/39 [==============================] - 17s 430ms/step - loss: 0.3615 - acc: 0.8537\n",
      "Epoch 225/300\n",
      "39/39 [==============================] - 17s 442ms/step - loss: 0.3475 - acc: 0.8587\n",
      "Epoch 226/300\n",
      "39/39 [==============================] - 18s 449ms/step - loss: 0.3649 - acc: 0.8496\n",
      "Epoch 227/300\n",
      "39/39 [==============================] - 18s 460ms/step - loss: 0.3570 - acc: 0.8548\n",
      "Epoch 228/300\n",
      "39/39 [==============================] - 17s 431ms/step - loss: 0.3585 - acc: 0.8541\n",
      "Epoch 229/300\n",
      "39/39 [==============================] - 16s 423ms/step - loss: 0.3514 - acc: 0.8561\n",
      "Epoch 230/300\n",
      "39/39 [==============================] - 18s 454ms/step - loss: 0.3596 - acc: 0.8541\n",
      "Epoch 231/300\n",
      "39/39 [==============================] - 17s 431ms/step - loss: 0.3520 - acc: 0.8589\n",
      "Epoch 232/300\n",
      "39/39 [==============================] - 18s 462ms/step - loss: 0.3610 - acc: 0.8557\n",
      "Epoch 233/300\n",
      "39/39 [==============================] - 17s 437ms/step - loss: 0.3518 - acc: 0.8571\n",
      "Epoch 234/300\n",
      "39/39 [==============================] - 16s 418ms/step - loss: 0.3498 - acc: 0.8612\n",
      "Epoch 235/300\n",
      "39/39 [==============================] - 16s 417ms/step - loss: 0.3536 - acc: 0.8569\n",
      "Epoch 236/300\n",
      "39/39 [==============================] - 16s 416ms/step - loss: 0.3482 - acc: 0.8571\n",
      "Epoch 237/300\n",
      "39/39 [==============================] - 17s 437ms/step - loss: 0.3432 - acc: 0.8627\n",
      "Epoch 238/300\n",
      "39/39 [==============================] - 17s 437ms/step - loss: 0.3376 - acc: 0.8632\n",
      "Epoch 239/300\n",
      "39/39 [==============================] - 17s 446ms/step - loss: 0.3470 - acc: 0.8595\n",
      "Epoch 240/300\n",
      "39/39 [==============================] - 17s 438ms/step - loss: 0.3419 - acc: 0.8616\n",
      "Epoch 241/300\n",
      "39/39 [==============================] - 17s 429ms/step - loss: 0.3469 - acc: 0.8600\n",
      "Epoch 242/300\n",
      "39/39 [==============================] - 16s 421ms/step - loss: 0.3492 - acc: 0.8589\n",
      "Epoch 243/300\n",
      "39/39 [==============================] - 18s 461ms/step - loss: 0.3574 - acc: 0.8576\n",
      "Epoch 244/300\n",
      "39/39 [==============================] - 17s 446ms/step - loss: 0.3561 - acc: 0.8573\n",
      "Epoch 245/300\n",
      "39/39 [==============================] - 16s 418ms/step - loss: 0.3533 - acc: 0.8582\n",
      "Epoch 246/300\n",
      "39/39 [==============================] - 17s 437ms/step - loss: 0.3529 - acc: 0.8582\n",
      "Epoch 247/300\n",
      "39/39 [==============================] - 16s 407ms/step - loss: 0.3520 - acc: 0.8571\n",
      "Epoch 248/300\n",
      "39/39 [==============================] - 17s 431ms/step - loss: 0.3457 - acc: 0.8586\n",
      "Epoch 249/300\n"
     ]
    },
    {
     "name": "stdout",
     "output_type": "stream",
     "text": [
      "39/39 [==============================] - 17s 436ms/step - loss: 0.3492 - acc: 0.8615\n",
      "Epoch 250/300\n",
      "39/39 [==============================] - 17s 425ms/step - loss: 0.3458 - acc: 0.8573\n",
      "Epoch 251/300\n",
      "39/39 [==============================] - 17s 436ms/step - loss: 0.3457 - acc: 0.8617\n",
      "Epoch 252/300\n",
      "39/39 [==============================] - 16s 409ms/step - loss: 0.3407 - acc: 0.8620\n",
      "Epoch 253/300\n",
      "39/39 [==============================] - 17s 440ms/step - loss: 0.3454 - acc: 0.8586\n",
      "Epoch 254/300\n",
      "39/39 [==============================] - 17s 430ms/step - loss: 0.3522 - acc: 0.8571\n",
      "Epoch 255/300\n",
      "39/39 [==============================] - 17s 426ms/step - loss: 0.3437 - acc: 0.8605\n",
      "Epoch 256/300\n",
      "39/39 [==============================] - 16s 410ms/step - loss: 0.3457 - acc: 0.8611\n",
      "Epoch 257/300\n",
      "39/39 [==============================] - 16s 418ms/step - loss: 0.3366 - acc: 0.8663\n",
      "Epoch 258/300\n",
      "39/39 [==============================] - 17s 437ms/step - loss: 0.3548 - acc: 0.8578\n",
      "Epoch 259/300\n",
      "39/39 [==============================] - 17s 442ms/step - loss: 0.3354 - acc: 0.8640\n",
      "Epoch 260/300\n",
      "39/39 [==============================] - 17s 424ms/step - loss: 0.3414 - acc: 0.8637\n",
      "Epoch 261/300\n",
      "39/39 [==============================] - 16s 418ms/step - loss: 0.3331 - acc: 0.8637\n",
      "Epoch 262/300\n",
      "39/39 [==============================] - 17s 442ms/step - loss: 0.3330 - acc: 0.8654\n",
      "Epoch 263/300\n",
      "39/39 [==============================] - 17s 447ms/step - loss: 0.3464 - acc: 0.8606\n",
      "Epoch 264/300\n",
      "39/39 [==============================] - 16s 417ms/step - loss: 0.3343 - acc: 0.8661\n",
      "Epoch 265/300\n",
      "39/39 [==============================] - 17s 431ms/step - loss: 0.3278 - acc: 0.8697\n",
      "Epoch 266/300\n",
      "39/39 [==============================] - 16s 414ms/step - loss: 0.3375 - acc: 0.8633\n",
      "Epoch 267/300\n",
      "39/39 [==============================] - 18s 451ms/step - loss: 0.3342 - acc: 0.8668\n",
      "Epoch 268/300\n",
      "39/39 [==============================] - 16s 414ms/step - loss: 0.3422 - acc: 0.8620\n",
      "Epoch 269/300\n",
      "39/39 [==============================] - 17s 432ms/step - loss: 0.3366 - acc: 0.8675\n",
      "Epoch 270/300\n",
      "39/39 [==============================] - 16s 412ms/step - loss: 0.3354 - acc: 0.8647\n",
      "Epoch 271/300\n",
      "39/39 [==============================] - 17s 434ms/step - loss: 0.3350 - acc: 0.8666\n",
      "Epoch 272/300\n",
      "39/39 [==============================] - 16s 418ms/step - loss: 0.3365 - acc: 0.8638\n",
      "Epoch 273/300\n",
      "39/39 [==============================] - 16s 418ms/step - loss: 0.3326 - acc: 0.8695\n",
      "Epoch 274/300\n",
      "39/39 [==============================] - 17s 448ms/step - loss: 0.3300 - acc: 0.8689\n",
      "Epoch 275/300\n",
      "39/39 [==============================] - 17s 424ms/step - loss: 0.3292 - acc: 0.8690\n",
      "Epoch 276/300\n",
      "39/39 [==============================] - 17s 443ms/step - loss: 0.3326 - acc: 0.8641\n",
      "Epoch 277/300\n",
      "39/39 [==============================] - 16s 419ms/step - loss: 0.3272 - acc: 0.8667\n",
      "Epoch 278/300\n",
      "39/39 [==============================] - 16s 405ms/step - loss: 0.3348 - acc: 0.8649\n",
      "Epoch 279/300\n",
      "39/39 [==============================] - 16s 423ms/step - loss: 0.3326 - acc: 0.8659\n",
      "Epoch 280/300\n",
      "39/39 [==============================] - 16s 420ms/step - loss: 0.3322 - acc: 0.8682\n",
      "Epoch 281/300\n",
      "39/39 [==============================] - 17s 434ms/step - loss: 0.3243 - acc: 0.8684\n",
      "Epoch 282/300\n",
      "39/39 [==============================] - 18s 450ms/step - loss: 0.3345 - acc: 0.8646\n",
      "Epoch 283/300\n",
      "39/39 [==============================] - 16s 416ms/step - loss: 0.3267 - acc: 0.8703\n",
      "Epoch 284/300\n",
      "39/39 [==============================] - 17s 427ms/step - loss: 0.3397 - acc: 0.8643\n",
      "Epoch 285/300\n",
      "39/39 [==============================] - 17s 426ms/step - loss: 0.3240 - acc: 0.8702\n",
      "Epoch 286/300\n",
      "39/39 [==============================] - 16s 423ms/step - loss: 0.3298 - acc: 0.8699\n",
      "Epoch 287/300\n",
      "39/39 [==============================] - 17s 445ms/step - loss: 0.3226 - acc: 0.8704\n",
      "Epoch 288/300\n",
      "39/39 [==============================] - 16s 421ms/step - loss: 0.3244 - acc: 0.8687\n",
      "Epoch 289/300\n",
      "39/39 [==============================] - 17s 445ms/step - loss: 0.3273 - acc: 0.8697\n",
      "Epoch 290/300\n",
      "39/39 [==============================] - 17s 424ms/step - loss: 0.3287 - acc: 0.8673\n",
      "Epoch 291/300\n",
      "39/39 [==============================] - 17s 435ms/step - loss: 0.3182 - acc: 0.8713\n",
      "Epoch 292/300\n",
      "39/39 [==============================] - 18s 472ms/step - loss: 0.3180 - acc: 0.8735\n",
      "Epoch 293/300\n",
      "39/39 [==============================] - 17s 436ms/step - loss: 0.3268 - acc: 0.8696\n",
      "Epoch 294/300\n",
      "39/39 [==============================] - 17s 445ms/step - loss: 0.3242 - acc: 0.8691\n",
      "Epoch 295/300\n",
      "39/39 [==============================] - 16s 419ms/step - loss: 0.3264 - acc: 0.8685\n",
      "Epoch 296/300\n",
      "39/39 [==============================] - 17s 425ms/step - loss: 0.3275 - acc: 0.8683\n",
      "Epoch 297/300\n",
      "39/39 [==============================] - 17s 434ms/step - loss: 0.3218 - acc: 0.8685\n",
      "Epoch 298/300\n",
      "39/39 [==============================] - 16s 409ms/step - loss: 0.3230 - acc: 0.8714\n",
      "Epoch 299/300\n",
      "39/39 [==============================] - 18s 452ms/step - loss: 0.3182 - acc: 0.8724\n",
      "Epoch 300/300\n",
      "39/39 [==============================] - 17s 435ms/step - loss: 0.3293 - acc: 0.8675\n"
     ]
    }
   ],
   "source": [
    "train_datagen = ImageDataGenerator(\n",
    "    rescale=1./255,\n",
    "      rotation_range=40,\n",
    "      width_shift_range=0.2,\n",
    "      height_shift_range=0.2,\n",
    "      shear_range=0.2,\n",
    "      zoom_range=0.2,\n",
    "      horizontal_flip=True,\n",
    "      fill_mode='nearest')\n",
    "\n",
    "train_generator = train_datagen.flow_from_directory(\n",
    "        train_dir,\n",
    "        target_size=(48, 48),\n",
    "        batch_size=512,\n",
    "        class_mode='categorical')\n",
    "\n",
    "history = model.fit_generator(\n",
    "      train_generator,\n",
    "      steps_per_epoch=39,\n",
    "      epochs=300)"
   ]
  },
  {
   "cell_type": "code",
   "execution_count": 43,
   "metadata": {},
   "outputs": [
    {
     "data": {
      "image/png": "[encoded data removed]",
      "text/plain": [
       "<Figure size 432x288 with 1 Axes>"
      ]
     },
     "metadata": {},
     "output_type": "display_data"
    },
    {
     "data": {
      "image/png": "[encoded data removed]",
      "text/plain": [
       "<Figure size 432x288 with 1 Axes>"
      ]
     },
     "metadata": {},
     "output_type": "display_data"
    }
   ],
   "source": [
    "acc = history.history['acc']\n",
    "loss = history.history['loss']\n",
    "\n",
    "epochs = range(len(acc))\n",
    "\n",
    "plt.plot(epochs, acc, 'bo', label='Training acc')\n",
    "plt.title('Training accuracy')\n",
    "plt.legend()\n",
    "\n",
    "plt.figure()\n",
    "\n",
    "plt.plot(epochs, loss, 'bo', label='Training loss')\n",
    "plt.title('Training loss')\n",
    "plt.legend()\n",
    "\n",
    "plt.show()"
   ]
  },
  {
   "cell_type": "code",
   "execution_count": null,
   "metadata": {},
   "outputs": [],
   "source": []
  },
  {
   "cell_type": "markdown",
   "metadata": {},
   "source": [
    "## Getting Images"
   ]
  },
  {
   "cell_type": "code",
   "execution_count": 44,
   "metadata": {},
   "outputs": [],
   "source": [
    "from keras.preprocessing.image import load_img\n",
    "from keras.preprocessing import image"
   ]
  },
  {
   "cell_type": "code",
   "execution_count": 45,
   "metadata": {},
   "outputs": [],
   "source": [
    "def gettingImages(id,path):\n",
    "    sample_array=[]\n",
    "    for i in range(len(id)):\n",
    "        img_path=path+id[i]\n",
    "        img=load_img(img_path,target_size=(48,48))\n",
    "        sample_array.append(image.img_to_array(img))\n",
    "    return sample_array\n",
    "        "
   ]
  },
  {
   "cell_type": "code",
   "execution_count": 46,
   "metadata": {},
   "outputs": [],
   "source": [
    "\n",
    "test_features=gettingImages(test_id,'Test/')"
   ]
  },
  {
   "cell_type": "code",
   "execution_count": 47,
   "metadata": {},
   "outputs": [],
   "source": [
    "\n",
    "test_features=np.array(test_features)"
   ]
  },
  {
   "cell_type": "code",
   "execution_count": 48,
   "metadata": {},
   "outputs": [],
   "source": [
    "\n",
    "test_features=test_features/255"
   ]
  },
  {
   "cell_type": "code",
   "execution_count": null,
   "metadata": {},
   "outputs": [],
   "source": []
  },
  {
   "cell_type": "markdown",
   "metadata": {},
   "source": [
    "## Categorical Conversion"
   ]
  },
  {
   "cell_type": "code",
   "execution_count": 49,
   "metadata": {},
   "outputs": [],
   "source": [
    "from sklearn.preprocessing import LabelEncoder"
   ]
  },
  {
   "cell_type": "code",
   "execution_count": 50,
   "metadata": {},
   "outputs": [],
   "source": [
    "import keras"
   ]
  },
  {
   "cell_type": "code",
   "execution_count": 51,
   "metadata": {},
   "outputs": [],
   "source": [
    "lb=LabelEncoder()"
   ]
  },
  {
   "cell_type": "code",
   "execution_count": 52,
   "metadata": {},
   "outputs": [],
   "source": [
    "train_label_sample=keras.utils.np_utils.to_categorical(lb.fit_transform(train_labels))"
   ]
  },
  {
   "cell_type": "code",
   "execution_count": 53,
   "metadata": {},
   "outputs": [
    {
     "data": {
      "text/plain": [
       "array([[1., 0., 0.],\n",
       "       [0., 0., 1.],\n",
       "       [1., 0., 0.],\n",
       "       [0., 0., 1.],\n",
       "       [1., 0., 0.],\n",
       "       [1., 0., 0.],\n",
       "       [0., 0., 1.],\n",
       "       [0., 0., 1.],\n",
       "       [0., 0., 1.],\n",
       "       [0., 1., 0.]], dtype=float32)"
      ]
     },
     "execution_count": 53,
     "metadata": {},
     "output_type": "execute_result"
    }
   ],
   "source": [
    "train_label_sample[:10]"
   ]
  },
  {
   "cell_type": "markdown",
   "metadata": {},
   "source": [
    "## Model Fitting"
   ]
  },
  {
   "cell_type": "code",
   "execution_count": 54,
   "metadata": {},
   "outputs": [],
   "source": [
    "predict=model.predict_classes(test_features)"
   ]
  },
  {
   "cell_type": "code",
   "execution_count": 55,
   "metadata": {},
   "outputs": [
    {
     "data": {
      "text/plain": [
       "array([1, 2, 2, ..., 0, 0, 2])"
      ]
     },
     "execution_count": 55,
     "metadata": {},
     "output_type": "execute_result"
    }
   ],
   "source": [
    "predict"
   ]
  },
  {
   "cell_type": "code",
   "execution_count": 56,
   "metadata": {},
   "outputs": [
    {
     "name": "stderr",
     "output_type": "stream",
     "text": [
      "/usr/local/lib/python3.5/dist-packages/sklearn/preprocessing/label.py:151: DeprecationWarning: The truth value of an empty array is ambiguous. Returning False, but in future this will result in an error. Use `array.size > 0` to check that an array is not empty.\n",
      "  if diff:\n"
     ]
    }
   ],
   "source": [
    "answers=lb.inverse_transform(predict)"
   ]
  },
  {
   "cell_type": "code",
   "execution_count": 57,
   "metadata": {},
   "outputs": [
    {
     "data": {
      "text/plain": [
       "array(['OLD', 'YOUNG', 'YOUNG', ..., 'MIDDLE', 'MIDDLE', 'YOUNG'],\n",
       "      dtype='<U6')"
      ]
     },
     "execution_count": 57,
     "metadata": {},
     "output_type": "execute_result"
    }
   ],
   "source": [
    "answers"
   ]
  },
  {
   "cell_type": "code",
   "execution_count": 58,
   "metadata": {},
   "outputs": [],
   "source": [
    "import pandas as pd"
   ]
  },
  {
   "cell_type": "code",
   "execution_count": 59,
   "metadata": {},
   "outputs": [],
   "source": [
    "df1=pd.DataFrame(test_id,columns=['ID'])"
   ]
  },
  {
   "cell_type": "code",
   "execution_count": 60,
   "metadata": {},
   "outputs": [],
   "source": [
    "df2=pd.DataFrame(answers,columns=['Class'])"
   ]
  },
  {
   "cell_type": "code",
   "execution_count": 61,
   "metadata": {},
   "outputs": [],
   "source": [
    "output=pd.concat([df1,df2],axis=1)"
   ]
  },
  {
   "cell_type": "code",
   "execution_count": 62,
   "metadata": {},
   "outputs": [],
   "source": [
    "output.to_csv('output3.csv',index=False)"
   ]
  },
  {
   "cell_type": "code",
   "execution_count": 63,
   "metadata": {},
   "outputs": [
    {
     "data": {
      "text/html": [
       "<div>\n",
       "<style scoped>\n",
       "    .dataframe tbody tr th:only-of-type {\n",
       "        vertical-align: middle;\n",
       "    }\n",
       "\n",
       "    .dataframe tbody tr th {\n",
       "        vertical-align: top;\n",
       "    }\n",
       "\n",
       "    .dataframe thead th {\n",
       "        text-align: right;\n",
       "    }\n",
       "</style>\n",
       "<table border=\"1\" class=\"dataframe\">\n",
       "  <thead>\n",
       "    <tr style=\"text-align: right;\">\n",
       "      <th></th>\n",
       "      <th>ID</th>\n",
       "      <th>Class</th>\n",
       "    </tr>\n",
       "  </thead>\n",
       "  <tbody>\n",
       "    <tr>\n",
       "      <th>0</th>\n",
       "      <td>25321.jpg</td>\n",
       "      <td>OLD</td>\n",
       "    </tr>\n",
       "    <tr>\n",
       "      <th>1</th>\n",
       "      <td>989.jpg</td>\n",
       "      <td>YOUNG</td>\n",
       "    </tr>\n",
       "    <tr>\n",
       "      <th>2</th>\n",
       "      <td>19277.jpg</td>\n",
       "      <td>YOUNG</td>\n",
       "    </tr>\n",
       "    <tr>\n",
       "      <th>3</th>\n",
       "      <td>13093.jpg</td>\n",
       "      <td>MIDDLE</td>\n",
       "    </tr>\n",
       "    <tr>\n",
       "      <th>4</th>\n",
       "      <td>5367.jpg</td>\n",
       "      <td>MIDDLE</td>\n",
       "    </tr>\n",
       "  </tbody>\n",
       "</table>\n",
       "</div>"
      ],
      "text/plain": [
       "          ID   Class\n",
       "0  25321.jpg     OLD\n",
       "1    989.jpg   YOUNG\n",
       "2  19277.jpg   YOUNG\n",
       "3  13093.jpg  MIDDLE\n",
       "4   5367.jpg  MIDDLE"
      ]
     },
     "execution_count": 63,
     "metadata": {},
     "output_type": "execute_result"
    }
   ],
   "source": [
    "output.head()"
   ]
  },
  {
   "cell_type": "code",
   "execution_count": null,
   "metadata": {},
   "outputs": [],
   "source": []
  },
  {
   "cell_type": "code",
   "execution_count": null,
   "metadata": {},
   "outputs": [],
   "source": []
  },
  {
   "cell_type": "code",
   "execution_count": null,
   "metadata": {},
   "outputs": [],
   "source": []
  }
 ],
 "metadata": {
  "kernelspec": {
   "display_name": "Python 2",
   "language": "python",
   "name": "python2"
  },
  "language_info": {
   "codemirror_mode": {
    "name": "ipython",
    "version": 3
   },
   "file_extension": ".py",
   "mimetype": "text/x-python",
   "name": "python",
   "nbconvert_exporter": "python",
   "pygments_lexer": "ipython3",
   "version": "3.5.2"
  }
 },
 "nbformat": 4,
 "nbformat_minor": 2
}
